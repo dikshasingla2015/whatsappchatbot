{
 "cells": [
  {
   "cell_type": "code",
   "execution_count": 1,
   "metadata": {},
   "outputs": [],
   "source": [
    "import requests\n",
    "import json\n",
    "\n",
    "brand='maybelline'\n",
    "URL=\"http://makeup-api.herokuapp.com/api/v1/products.json?brand=\"+brand\n",
    "request=requests.get(URL)\n",
    "if request.status_code==200:\n",
    "    print(\"Connected to server.....fetching data\")\n",
    "    content_data=request.json()\n",
    "    file_name=input(\"Enter file name to save data: \")\n",
    "    if file_name==\"\":\n",
    "        print(\"file name is not correct\")\n",
    "    else:\n",
    "        print(json.dumps(content_data,indent=2))\n",
    "        print(\"data saved in file\")\n",
    "else:\n",
    "    print(\"Error connecting to server...\")"
   ]
  }
 ],
 "metadata": {
  "kernelspec": {
   "display_name": "Python 3",
   "language": "python",
   "name": "python3"
  },
  "language_info": {
   "codemirror_mode": {
    "name": "ipython",
    "version": 3
   },
   "file_extension": ".py",
   "mimetype": "text/x-python",
   "name": "python",
   "nbconvert_exporter": "python",
   "pygments_lexer": "ipython3",
   "version": "3.7.3"
  }
 },
 "nbformat": 4,
 "nbformat_minor": 2
}
