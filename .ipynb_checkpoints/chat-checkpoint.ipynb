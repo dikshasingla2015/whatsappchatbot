{
 "cells": [
  {
   "cell_type": "code",
   "execution_count": 52,
   "metadata": {},
   "outputs": [
    {
     "name": "stdout",
     "output_type": "stream",
     "text": [
      "a plan for carrying out a process or procedure, giving lists of intended events and times\n"
     ]
    }
   ],
   "source": [
    "import requests\n",
    "import json\n",
    "app_id=\"230078d5\"\n",
    "app_key=\"52e933da09c08cfc07c21ad20a32b412\"\n",
    "\n",
    "endpoint = \"entries\"\n",
    "language_code = \"en-us\"\n",
    "word_id = \"schedule\"\n",
    "url = \"https://od-api.oxforddictionaries.com/api/v2/\" + endpoint + \"/\" + language_code + \"/\" + word_id.lower()\n",
    "r = requests.get(url, headers = {\"app_id\": app_id, \"app_key\": app_key})\n",
    "content_data=r.json()\n",
    "print(content_data['results'][0]['lexicalEntries'][0]['entries'][0]['senses'][0]['definitions'][0])"
   ]
  },
  {
   "cell_type": "code",
   "execution_count": 19,
   "metadata": {},
   "outputs": [
    {
     "name": "stdout",
     "output_type": "stream",
     "text": [
      "Maybelline Face Studio Master Hi-Light Light Booster Bronzer 14.99 https://d3t32hsnjxo7q6.cloudfront.net/i/991799d3e70b8856686979f8ff6dcfe0_ra,w158,h184_pa,w158,h184.png https://well.ca/products/maybelline-face-studio-master_88837.html Maybelline Face Studio Master Hi-Light Light Boosting bronzer formula has an expert \n",
      "balance of shade + shimmer illuminator for natural glow. Skin goes \n",
      "soft-lit with zero glitz.\n",
      "\n",
      "\t\tFor Best Results: Brush over all shades in palette and gently sweep over \n",
      "cheekbones, brow bones, and temples, or anywhere light naturally touches\n",
      " the face.\n",
      "\n",
      "\t\t\n",
      "\t\n",
      "\n",
      "                    \n",
      "Maybelline Fit Me Bronzer 10.29 https://d3t32hsnjxo7q6.cloudfront.net/i/d4f7d82b4858c622bb3c1cef07b9d850_ra,w158,h184_pa,w158,h184.png https://well.ca/products/maybelline-fit-me-bronzer_31265.html Why You'll Love It\n",
      "\n",
      "Lightweight pigments blend easily and wear evenly\n",
      "Provides a natural, fade-proof bronzed color that leaves skin the way it was meant to be...fresh, breathing and natural\n",
      "\n",
      "For Best Results: For soft, natural look, brush along cheekbone, sweeping upward.\n",
      "Maybelline Facestudio Master Contour Kit 15.99 https://d3t32hsnjxo7q6.cloudfront.net/i/4f731de249cbd4cb819ea7f5f4cfb5c3_ra,w158,h184_pa,w158,h184.png https://well.ca/products/maybelline-facestudio-master-contour_120303.html?cat=328 Maybelline Facestudio Master Contour Kit is the ultimate on the go all-in-one palette, with contouring brush included.  Define and highlight in a New York minute with this effortless 3-step face contouring kit.  This easy-to-use 3-step face contouring kit features a bronzer, blush and highlighter.\n"
     ]
    },
    {
     "data": {
      "text/plain": [
       "495"
      ]
     },
     "execution_count": 19,
     "metadata": {},
     "output_type": "execute_result"
    }
   ],
   "source": [
    "import requests\n",
    "import json\n",
    "brand=\"maybelline\"\n",
    "URL=\"http://makeup-api.herokuapp.com/api/v1/products.json?brand=\"+brand\n",
    "URL1 = \"http://makeup-api.herokuapp.com/api/v1/products.json?brand=covergirl&product_type=lipstick\"\n",
    "request=requests.get(URL)\n",
    "content_data=request.json()\n",
    "for i in range(0,3,1):\n",
    "    print(content_data[i]['name'],content_data[i]['price'],content_data[i]['image_link'],content_data[i]['product_link'],content_data[i]['description'])\n",
    "content_data[0]['id']"
   ]
  },
  {
   "cell_type": "code",
   "execution_count": 37,
   "metadata": {},
   "outputs": [
    {
     "name": "stdout",
     "output_type": "stream",
     "text": [
      "Turn your magic on\n",
      "Umi she'd say\n",
      "Everything you want's a dream away\n",
      "And we are legends every day\n",
      "That's what she told me\n",
      "\n",
      "Turn your magic on\n",
      "To me she'd say\n",
      "Everything you want's a dream away\n",
      "Under this pressure, under this weight\n",
      "We are diamonds\n",
      "\n",
      "I feel my heart beating\n",
      "I feel my heart underneath my skin\n",
      "I feel my heart beating\n",
      "Oh, you make me feel\n",
      "Like I'm alive again\n",
      "(Alive again)\n",
      "Oh, you make me feel\n",
      "Like I'm alive again\n",
      "\n",
      "Said I can't go on, not in this way\n",
      "I'm a dream that died by light of day\n",
      "Gonna hold up half the sky and say\n",
      "Only I own me\n",
      "\n",
      "I feel my heart beating\n",
      "I feel my heart underneath my skin\n",
      "Oh, I can feel my heart beating\n",
      "'Cause you make me feel\n",
      "Like I'm alive again\n",
      "(Alive again)\n",
      "Oh, you make me feel\n",
      "Like I'm alive again\n",
      "\n",
      "Turn your magic on\n",
      "Umi she'd say\n",
      "Everything you want's a dream away\n",
      "Under this pressure, under this weight\n",
      "We are diamonds taking shape\n",
      "We are diamonds taking shape\n",
      "\n",
      "Woo hoo\n",
      "Woo hoo\n",
      "\n",
      "If we've only got this life\n",
      "This adventure, oh, then I\n",
      "And if we've only got this life\n",
      "You get me through, ah\n",
      "And if we've only got this life\n",
      "In this adventure, oh, then I\n",
      "Want to share it with you\n",
      "With you\n",
      "With you\n",
      "I see you, I see you\n",
      "\n",
      "Woo hoo (Woo hoo)\n",
      "Woo hoo (Woo hoo)\n",
      "Woo hoo (Woo hoo)\n",
      "Woo hoo (Woo hoo)\n",
      "\n",
      "Woo hoo (Woo hoo)\n",
      "Woo hoo (Woo hoo)\n",
      "Woo hoo (Woo hoo)\n",
      "Woo hoo (Woo hoo)\n",
      "\n",
      "Woo hoo (Woo hoo)\n",
      "Woo hoo (Woo hoo)\n",
      "Woo hoo (Woo hoo)\n",
      "Woo hoo (Woo hoo)\n"
     ]
    }
   ],
   "source": [
    "import requests\n",
    "import json\n",
    "\n",
    "URL=\"https://api.lyrics.ovh/v1/Coldplay/adventure of a lifetime\"\n",
    "request=requests.get(URL)\n",
    "if request.status_code==200:\n",
    "    content_data=request.json()\n",
    "    print(content_data['lyrics'])\n",
    "else:\n",
    "    print(\"Error connecting to server...\")"
   ]
  },
  {
   "cell_type": "code",
   "execution_count": 4,
   "metadata": {},
   "outputs": [
    {
     "data": {
      "text/plain": [
       "'1.22.03.Acoustic'"
      ]
     },
     "execution_count": 4,
     "metadata": {},
     "output_type": "execute_result"
    }
   ],
   "source": [
    "import wikipedia\n",
    "wikipedia.page(\"sugar song by maroon 5\").links[0]"
   ]
  },
  {
   "cell_type": "code",
   "execution_count": null,
   "metadata": {},
   "outputs": [],
   "source": [
    "res = requests.get(\"https://en.wikipedia.org/wiki/sugar song by maroon 5\")\n",
    "soup = bs(res.text, \"html.parser\")\n",
    "naval_battles = {}\n",
    "for link in soup.find_all(\"a\"):\n",
    "    url = link.get(\"href\", \"\")\n",
    "    if \"/wiki/sugar\" in url:\n",
    "        naval_battles[link.text.strip()] = url\n",
    "\n",
    "print(naval_battles)"
   ]
  }
 ],
 "metadata": {
  "kernelspec": {
   "display_name": "Python 3",
   "language": "python",
   "name": "python3"
  },
  "language_info": {
   "codemirror_mode": {
    "name": "ipython",
    "version": 3
   },
   "file_extension": ".py",
   "mimetype": "text/x-python",
   "name": "python",
   "nbconvert_exporter": "python",
   "pygments_lexer": "ipython3",
   "version": "3.7.3"
  }
 },
 "nbformat": 4,
 "nbformat_minor": 2
}
